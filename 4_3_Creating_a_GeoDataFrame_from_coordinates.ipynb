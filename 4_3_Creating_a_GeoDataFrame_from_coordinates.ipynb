{
  "nbformat": 4,
  "nbformat_minor": 0,
  "metadata": {
    "kernelspec": {
      "display_name": "Python [conda root]",
      "language": "python",
      "name": "conda-root-py"
    },
    "language_info": {
      "codemirror_mode": {
        "name": "ipython",
        "version": 3
      },
      "file_extension": ".py",
      "mimetype": "text/x-python",
      "name": "python",
      "nbconvert_exporter": "python",
      "pygments_lexer": "ipython3",
      "version": "3.5.4"
    },
    "colab": {
      "name": "4.3 Creating a GeoDataFrame from coordinates.ipynb",
      "provenance": [],
      "toc_visible": true
    }
  },
  "cells": [
    {
      "cell_type": "markdown",
      "metadata": {
        "id": "Xtm5f-O6uP5y"
      },
      "source": [
        "\n",
        "<a href=\"https://colab.research.google.com/github/mehak-sachdeva/GIS-322-Summer-2021/blob/master/4_3_Creating_a_GeoDataFrame_from_coordinates.ipynb\" target=\"_parent\"><img src=\"https://colab.research.google.com/assets/colab-badge.svg\" alt=\"Open In Colab\"/></a>\n",
        "\n"
      ]
    },
    {
      "cell_type": "markdown",
      "metadata": {
        "id": "TJFnd97isOfS"
      },
      "source": [
        "# 4.3 Creating a GeoDataFrame from  coordinates\n",
        "\n",
        "\n",
        "\n",
        "\n",
        "\n",
        "<br></br>\n",
        "In this notebook, you will learn how to create a GeoDataFrame from a list of coordinates in python using `geopandas` library.\n",
        "\n",
        "\n",
        "\n",
        "\n"
      ]
    },
    {
      "cell_type": "markdown",
      "metadata": {
        "id": "dmU2gFkBsOfY"
      },
      "source": [
        "<p>First of all, lets find some interesting places on ASU campus. Here is a list of mine. Each place is linked with a pair of coordinates: latitude and longitude.&nbsp;</p>\n",
        "<table style=\"border-collapse: collapse; width: 75.51282051282051%; height: 211px;\" border=\"1\">\n",
        "<tbody>\n",
        "<tr style=\"height: 24px;\">\n",
        "<td style=\"width: 33.333333333333336%; height: 24px;\">Cities</td>\n",
        "<td style=\"width: 33.333333333333336%; height: 24px;\">Latitude</td>\n",
        "<td style=\"width: 33.333333333333336%; height: 24px;\">Longitude</td>\n",
        "</tr>\n",
        "<tr style=\"height: 24px;\">\n",
        "<td style=\"width: 33.333333333333336%; height: 24px;\">New York</td>\n",
        "<td style=\"width: 33.333333333333336%; height: 24px;\"><span>40.7128</span></td>\n",
        "<td style=\"width: 33.333333333333336%; height: 24px;\"><span>-74.0060</span></td>\n",
        "</tr>\n",
        "<tr style=\"height: 24px;\">\n",
        "<td style=\"width: 33.333333333333336%; height: 24px;\">Dallas</td>\n",
        "<td style=\"width: 33.333333333333336%; height: 24px;\"><span>32.7767</span></td>\n",
        "<td style=\"width: 33.333333333333336%; height: 24px;\"><span>-96.7970</span></td>\n",
        "</tr>\n",
        "<tr style=\"height: 24px;\">\n",
        "<td style=\"width: 33.333333333333336%; height: 24px;\">Seattle</td>\n",
        "<td style=\"width: 33.333333333333336%; height: 24px;\"><span>47.6062</span></td>\n",
        "<td style=\"width: 33.333333333333336%; height: 24px;\"><span>-122.3321</span></td>\n",
        "</tr>\n",
        "<tr style=\"height: 24px;\">\n",
        "<td style=\"width: 33.333333333333336%; height: 24px;\">Phoenix</td>\n",
        "<td style=\"width: 33.333333333333336%; height: 24px;\"><span>33.4484</span></td>\n",
        "<td style=\"width: 33.333333333333336%; height: 24px;\"><span>-112.0740</span></td>\n",
        "</tr>\n",
        "</tbody>\n",
        "</table>"
      ]
    },
    {
      "cell_type": "markdown",
      "metadata": {
        "id": "2qRGk3C9sOfb"
      },
      "source": [
        "<br></br>\n",
        "Then let's try to make a DataFrame from the list of places we have."
      ]
    },
    {
      "cell_type": "code",
      "metadata": {
        "id": "FYBcWQIMsOff"
      },
      "source": [
        "cities = [['New York', 40.7128, -74.0060], \n",
        "          ['Dallas', 32.7767, -96.7970],\n",
        "          ['Seattle', 47.6062, -122.3321],\n",
        "          ['Phoenix', 33.4484, -112.0740]] "
      ],
      "execution_count": null,
      "outputs": []
    },
    {
      "cell_type": "code",
      "metadata": {
        "id": "ZUqQ-5y4sOgC",
        "colab": {
          "base_uri": "https://localhost:8080/",
          "height": 85
        },
        "outputId": "aa06f774-5dcc-4b5b-f422-f970b1277bf5"
      },
      "source": [
        "cities"
      ],
      "execution_count": null,
      "outputs": [
        {
          "output_type": "execute_result",
          "data": {
            "text/plain": [
              "[['New York', 40.7128, -74.006],\n",
              " ['Dallas', 32.7767, -96.797],\n",
              " ['Seattle', 47.6062, -122.3321],\n",
              " ['Phoenix', 33.4484, -112.074]]"
            ]
          },
          "metadata": {
            "tags": []
          },
          "execution_count": 7
        }
      ]
    },
    {
      "cell_type": "code",
      "metadata": {
        "id": "U9st_v9ysOgN"
      },
      "source": [
        "import pandas as pd\n",
        "cities_df = pd.DataFrame(cities, columns = ['Cities', 'Lat','Long']) "
      ],
      "execution_count": null,
      "outputs": []
    },
    {
      "cell_type": "code",
      "metadata": {
        "id": "2CfuKZstsOgT",
        "colab": {
          "base_uri": "https://localhost:8080/",
          "height": 173
        },
        "outputId": "90f99e09-d4df-47c8-eb23-32acb4b30165"
      },
      "source": [
        "cities_df"
      ],
      "execution_count": null,
      "outputs": [
        {
          "output_type": "execute_result",
          "data": {
            "text/html": [
              "<div>\n",
              "<style scoped>\n",
              "    .dataframe tbody tr th:only-of-type {\n",
              "        vertical-align: middle;\n",
              "    }\n",
              "\n",
              "    .dataframe tbody tr th {\n",
              "        vertical-align: top;\n",
              "    }\n",
              "\n",
              "    .dataframe thead th {\n",
              "        text-align: right;\n",
              "    }\n",
              "</style>\n",
              "<table border=\"1\" class=\"dataframe\">\n",
              "  <thead>\n",
              "    <tr style=\"text-align: right;\">\n",
              "      <th></th>\n",
              "      <th>Cities</th>\n",
              "      <th>Lat</th>\n",
              "      <th>Long</th>\n",
              "    </tr>\n",
              "  </thead>\n",
              "  <tbody>\n",
              "    <tr>\n",
              "      <th>0</th>\n",
              "      <td>New York</td>\n",
              "      <td>40.7128</td>\n",
              "      <td>-74.0060</td>\n",
              "    </tr>\n",
              "    <tr>\n",
              "      <th>1</th>\n",
              "      <td>Dallas</td>\n",
              "      <td>32.7767</td>\n",
              "      <td>-96.7970</td>\n",
              "    </tr>\n",
              "    <tr>\n",
              "      <th>2</th>\n",
              "      <td>Seattle</td>\n",
              "      <td>47.6062</td>\n",
              "      <td>-122.3321</td>\n",
              "    </tr>\n",
              "    <tr>\n",
              "      <th>3</th>\n",
              "      <td>Phoenix</td>\n",
              "      <td>33.4484</td>\n",
              "      <td>-112.0740</td>\n",
              "    </tr>\n",
              "  </tbody>\n",
              "</table>\n",
              "</div>"
            ],
            "text/plain": [
              "     Cities      Lat      Long\n",
              "0  New York  40.7128  -74.0060\n",
              "1    Dallas  32.7767  -96.7970\n",
              "2   Seattle  47.6062 -122.3321\n",
              "3   Phoenix  33.4484 -112.0740"
            ]
          },
          "metadata": {
            "tags": []
          },
          "execution_count": 9
        }
      ]
    },
    {
      "cell_type": "markdown",
      "metadata": {
        "id": "VSxCFr4ksOgb"
      },
      "source": [
        "After that, we can use the method provided in geopandas `geopandas.points_from_xy(longitude, latitude)` to convert an ordinary `DataFrame` to `GeoDataFrame`."
      ]
    },
    {
      "cell_type": "code",
      "metadata": {
        "id": "MIHHXIPpssDg"
      },
      "source": [
        "!pip install geopandas\n",
        "import geopandas as gpd"
      ],
      "execution_count": null,
      "outputs": []
    },
    {
      "cell_type": "code",
      "metadata": {
        "id": "Kad8YesFsOgc"
      },
      "source": [
        "cities_gdf = gpd.GeoDataFrame(\n",
        "    cities_df, geometry=gpd.points_from_xy(cities_df.Long, cities_df.Lat))"
      ],
      "execution_count": null,
      "outputs": []
    },
    {
      "cell_type": "markdown",
      "metadata": {
        "id": "qM_HAl-msOgg"
      },
      "source": [
        "<br></br>\n",
        "Plot it to see if it looks right."
      ]
    },
    {
      "cell_type": "code",
      "metadata": {
        "id": "X7nLrDzTsOgh",
        "colab": {
          "base_uri": "https://localhost:8080/",
          "height": 171
        },
        "outputId": "e1cd76ed-5933-4d1f-9144-3c9310114b13"
      },
      "source": [
        "cities_gdf.plot()"
      ],
      "execution_count": null,
      "outputs": [
        {
          "output_type": "execute_result",
          "data": {
            "text/plain": [
              "<matplotlib.axes._subplots.AxesSubplot at 0x7f7506fd02b0>"
            ]
          },
          "metadata": {
            "tags": []
          },
          "execution_count": 12
        },
        {
          "output_type": "display_data",
          "data": {
            "image/png": "[encoded data removed]",
            "text/plain": [
              "<Figure size 432x288 with 1 Axes>"
            ]
          },
          "metadata": {
            "tags": []
          }
        }
      ]
    },
    {
      "cell_type": "markdown",
      "metadata": {
        "id": "z0HxS4OJsOgq"
      },
      "source": [
        "<br></br>\n",
        "For better to look at it, we need a basemap, let's read in the US map we have made in the Module 4.1."
      ]
    },
    {
      "cell_type": "code",
      "metadata": {
        "id": "aQXiLqBwsOgs"
      },
      "source": [
        "%matplotlib inline"
      ],
      "execution_count": null,
      "outputs": []
    },
    {
      "cell_type": "code",
      "metadata": {
        "id": "IMRrNk_-sOgv"
      },
      "source": [
        "contig = gpd.read_file(\"US_lower_48.shp\")"
      ],
      "execution_count": null,
      "outputs": []
    },
    {
      "cell_type": "code",
      "metadata": {
        "id": "Qyjxil7CsOgz",
        "colab": {
          "base_uri": "https://localhost:8080/",
          "height": 213
        },
        "outputId": "c20d6aa2-3710-45d6-e115-41b4666561a6"
      },
      "source": [
        "contig.plot()"
      ],
      "execution_count": null,
      "outputs": [
        {
          "output_type": "execute_result",
          "data": {
            "text/plain": [
              "<matplotlib.axes._subplots.AxesSubplot at 0x7f7504785160>"
            ]
          },
          "metadata": {
            "tags": []
          },
          "execution_count": 15
        },
        {
          "output_type": "display_data",
          "data": {
            "image/png": "[encoded data removed]",
            "text/plain": [
              "<Figure size 432x288 with 1 Axes>"
            ]
          },
          "metadata": {
            "tags": []
          }
        }
      ]
    },
    {
      "cell_type": "markdown",
      "metadata": {
        "id": "RD1mQ4AtsOg3"
      },
      "source": [
        "<br></br>\n",
        "<font size=\"3\">Overlay both together, it seems alright!</font>"
      ]
    },
    {
      "cell_type": "code",
      "metadata": {
        "id": "9QqsnJHusOg5",
        "colab": {
          "base_uri": "https://localhost:8080/",
          "height": 309
        },
        "outputId": "ee0b7417-13da-4c0d-bcf2-9888331a5b92"
      },
      "source": [
        "import matplotlib.pyplot as plt\n",
        "fig, ax = plt.subplots(1, 1,figsize=(10,10))\n",
        "contig.plot(ax=ax)\n",
        "cities_gdf.plot(ax=ax,color=\"red\")"
      ],
      "execution_count": null,
      "outputs": [
        {
          "output_type": "execute_result",
          "data": {
            "text/plain": [
              "<matplotlib.axes._subplots.AxesSubplot at 0x7f75043a5ef0>"
            ]
          },
          "metadata": {
            "tags": []
          },
          "execution_count": 16
        },
        {
          "output_type": "display_data",
          "data": {
            "image/png": "[encoded data removed]",
            "text/plain": [
              "<Figure size 720x720 with 1 Axes>"
            ]
          },
          "metadata": {
            "tags": []
          }
        }
      ]
    },
    {
      "cell_type": "code",
      "metadata": {
        "id": "2LxT81xksOg8"
      },
      "source": [
        ""
      ],
      "execution_count": null,
      "outputs": []
    }
  ]
}