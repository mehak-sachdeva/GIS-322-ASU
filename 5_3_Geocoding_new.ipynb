{
 "cells": [
  {
   "cell_type": "markdown",
   "metadata": {
    "id": "kXNUDC9dk8ku"
   },
   "source": [
    "<a href=\"https://colab.research.google.com/github/mehak-sachdeva/GIS-322-ASU/blob/master/5_3_Geocoding_new.ipynb\" target=\"_parent\"><img src=\"https://colab.research.google.com/assets/colab-badge.svg\" alt=\"Open In Colab\"/></a>\n",
    "\n",
    "# 5.3 Geocoding\n",
    "\n",
    "<br></br>\n",
    "What is geocoding?\n",
    "\n",
    "<br></br>\n",
    "\n",
    "Geocoding is to converti addresses into coordinates (or vice versa), which is a really common GIS task. For example, we might want to know the longitude and latitude from a business address. Fortunately, there are convinient libraries in python that make the geocoding task really easy."
   ]
  },
  {
   "cell_type": "markdown",
   "metadata": {
    "id": "Te4wPJp8k8k2"
   },
   "source": [
    "\n",
    "\n",
    "<br></br>\n",
    "One of the libraries that can do the geocoding for us is `geopy` (https://geopy.readthedocs.io/en/stable/#module-geopy.geocoders) that makes it easy to locate the coordinates of addresses, cities, countries, and landmarks across the globe using third-party geocoders and other data sources. You can think about `geopy` as a \"wrapper\"; however, what's inside is geocoder services, and many of them are not FREE! (also can be very expensive if you have large queries). Some of the providers are:\n",
    "\n",
    "* ArcGIS online geocoding service (https://geocode.arcgis.com).\n",
    "* Google Geocoding API (https://developers.google.com/maps/documentation/geocoding/start).\n",
    "* OpenStreetMap (Nominatim) (https://nominatim.openstreetmap.org).\n",
    "\n",
    "\n"
   ]
  },
  {
   "cell_type": "markdown",
   "metadata": {
    "id": "Vi1ALMi7k8k6"
   },
   "source": [
    "<br></br>\n",
    "Great thing about `geopy` is that it is integrated in `geopandas`, which makes it very friendly (native) to use. Now let's give it a try.\n",
    "\n",
    "\n",
    "\n"
   ]
  },
  {
   "cell_type": "code",
   "execution_count": 1,
   "metadata": {
    "id": "xJ46N7l_k8lA"
   },
   "outputs": [],
   "source": [
    "my_address = \"1037 South Farmer Ave, Tempe, Arizona\""
   ]
  },
  {
   "cell_type": "markdown",
   "metadata": {
    "id": "YefxJavUk8lN"
   },
   "source": [
    "<br></br>\n",
    "Above is my apartment address, is someone living close to me?\n",
    "<br></br>\n",
    "And next, let's try to convert this address to coordinates. The command is: \n",
    "\n",
    "\n",
    "<br></br>\n",
    "`geopandas.tools.geocode.eocode(my_address, provider=None,user_agent=None)`\n",
    "    \n",
    "where we use the Geopy's default Photon geocoding service.\n"
   ]
  },
  {
   "cell_type": "code",
   "execution_count": 2,
   "metadata": {
    "colab": {
     "base_uri": "https://localhost:8080/"
    },
    "id": "wb-xdaJsk8lS",
    "outputId": "d1053b57-c8b1-463e-ba58-f4cc32eaea0d"
   },
   "outputs": [
    {
     "name": "stdout",
     "output_type": "stream",
     "text": [
      "Requirement already satisfied: geopandas in /Users/mehaksachdeva/opt/anaconda3/lib/python3.9/site-packages (0.11.1)\n",
      "Requirement already satisfied: fiona>=1.8 in /Users/mehaksachdeva/opt/anaconda3/lib/python3.9/site-packages (from geopandas) (1.8.22)\n",
      "Requirement already satisfied: packaging in /Users/mehaksachdeva/opt/anaconda3/lib/python3.9/site-packages (from geopandas) (21.3)\n",
      "Requirement already satisfied: pyproj>=2.6.1.post1 in /Users/mehaksachdeva/opt/anaconda3/lib/python3.9/site-packages (from geopandas) (3.4.0)\n",
      "Requirement already satisfied: pandas>=1.0.0 in /Users/mehaksachdeva/opt/anaconda3/lib/python3.9/site-packages (from geopandas) (1.4.4)\n",
      "Requirement already satisfied: shapely<2,>=1.7 in /Users/mehaksachdeva/opt/anaconda3/lib/python3.9/site-packages (from geopandas) (1.8.5.post1)\n",
      "Requirement already satisfied: certifi in /Users/mehaksachdeva/opt/anaconda3/lib/python3.9/site-packages (from fiona>=1.8->geopandas) (2022.9.24)\n",
      "Requirement already satisfied: attrs>=17 in /Users/mehaksachdeva/opt/anaconda3/lib/python3.9/site-packages (from fiona>=1.8->geopandas) (21.4.0)\n",
      "Requirement already satisfied: six>=1.7 in /Users/mehaksachdeva/opt/anaconda3/lib/python3.9/site-packages (from fiona>=1.8->geopandas) (1.16.0)\n",
      "Requirement already satisfied: click>=4.0 in /Users/mehaksachdeva/opt/anaconda3/lib/python3.9/site-packages (from fiona>=1.8->geopandas) (8.0.4)\n",
      "Requirement already satisfied: munch in /Users/mehaksachdeva/opt/anaconda3/lib/python3.9/site-packages (from fiona>=1.8->geopandas) (2.5.0)\n",
      "Requirement already satisfied: cligj>=0.5 in /Users/mehaksachdeva/opt/anaconda3/lib/python3.9/site-packages (from fiona>=1.8->geopandas) (0.7.2)\n",
      "Requirement already satisfied: click-plugins>=1.0 in /Users/mehaksachdeva/opt/anaconda3/lib/python3.9/site-packages (from fiona>=1.8->geopandas) (1.1.1)\n",
      "Requirement already satisfied: setuptools in /Users/mehaksachdeva/opt/anaconda3/lib/python3.9/site-packages (from fiona>=1.8->geopandas) (63.4.1)\n",
      "Requirement already satisfied: python-dateutil>=2.8.1 in /Users/mehaksachdeva/opt/anaconda3/lib/python3.9/site-packages (from pandas>=1.0.0->geopandas) (2.8.2)\n",
      "Requirement already satisfied: pytz>=2020.1 in /Users/mehaksachdeva/opt/anaconda3/lib/python3.9/site-packages (from pandas>=1.0.0->geopandas) (2022.1)\n",
      "Requirement already satisfied: numpy>=1.18.5 in /Users/mehaksachdeva/opt/anaconda3/lib/python3.9/site-packages (from pandas>=1.0.0->geopandas) (1.21.0)\n",
      "Requirement already satisfied: pyparsing!=3.0.5,>=2.0.2 in /Users/mehaksachdeva/opt/anaconda3/lib/python3.9/site-packages (from packaging->geopandas) (3.0.9)\n"
     ]
    }
   ],
   "source": [
    "from geopandas.tools import geocode\n",
    "# Geocode addresses with Photon backend\n",
    "coords = geocode(my_address, provider=None,user_agent=None)"
   ]
  },
  {
   "cell_type": "code",
   "execution_count": 16,
   "metadata": {
    "colab": {
     "base_uri": "https://localhost:8080/",
     "height": 81
    },
    "id": "R3tnKWOwk8lZ",
    "outputId": "6d00519a-fdb3-487d-ca5e-edf4fb2b883d"
   },
   "outputs": [
    {
     "data": {
      "text/html": [
       "\n",
       "  <div id=\"df-c7548a6d-0768-48c9-8fee-2de327bd3a25\">\n",
       "    <div class=\"colab-df-container\">\n",
       "      <div>\n",
       "<style scoped>\n",
       "    .dataframe tbody tr th:only-of-type {\n",
       "        vertical-align: middle;\n",
       "    }\n",
       "\n",
       "    .dataframe tbody tr th {\n",
       "        vertical-align: top;\n",
       "    }\n",
       "\n",
       "    .dataframe thead th {\n",
       "        text-align: right;\n",
       "    }\n",
       "</style>\n",
       "<table border=\"1\" class=\"dataframe\">\n",
       "  <thead>\n",
       "    <tr style=\"text-align: right;\">\n",
       "      <th></th>\n",
       "      <th>geometry</th>\n",
       "      <th>address</th>\n",
       "    </tr>\n",
       "  </thead>\n",
       "  <tbody>\n",
       "    <tr>\n",
       "      <th>0</th>\n",
       "      <td>POINT (-111.94048 33.43344)</td>\n",
       "      <td>Tempe Town Lake, South Mill Avenue, 85287, Sou...</td>\n",
       "    </tr>\n",
       "  </tbody>\n",
       "</table>\n",
       "</div>\n",
       "      <button class=\"colab-df-convert\" onclick=\"convertToInteractive('df-c7548a6d-0768-48c9-8fee-2de327bd3a25')\"\n",
       "              title=\"Convert this dataframe to an interactive table.\"\n",
       "              style=\"display:none;\">\n",
       "        \n",
       "  <svg xmlns=\"http://www.w3.org/2000/svg\" height=\"24px\"viewBox=\"0 0 24 24\"\n",
       "       width=\"24px\">\n",
       "    <path d=\"M0 0h24v24H0V0z\" fill=\"none\"/>\n",
       "    <path d=\"M18.56 5.44l.94 2.06.94-2.06 2.06-.94-2.06-.94-.94-2.06-.94 2.06-2.06.94zm-11 1L8.5 8.5l.94-2.06 2.06-.94-2.06-.94L8.5 2.5l-.94 2.06-2.06.94zm10 10l.94 2.06.94-2.06 2.06-.94-2.06-.94-.94-2.06-.94 2.06-2.06.94z\"/><path d=\"M17.41 7.96l-1.37-1.37c-.4-.4-.92-.59-1.43-.59-.52 0-1.04.2-1.43.59L10.3 9.45l-7.72 7.72c-.78.78-.78 2.05 0 2.83L4 21.41c.39.39.9.59 1.41.59.51 0 1.02-.2 1.41-.59l7.78-7.78 2.81-2.81c.8-.78.8-2.07 0-2.86zM5.41 20L4 18.59l7.72-7.72 1.47 1.35L5.41 20z\"/>\n",
       "  </svg>\n",
       "      </button>\n",
       "      \n",
       "  <style>\n",
       "    .colab-df-container {\n",
       "      display:flex;\n",
       "      flex-wrap:wrap;\n",
       "      gap: 12px;\n",
       "    }\n",
       "\n",
       "    .colab-df-convert {\n",
       "      background-color: #E8F0FE;\n",
       "      border: none;\n",
       "      border-radius: 50%;\n",
       "      cursor: pointer;\n",
       "      display: none;\n",
       "      fill: #1967D2;\n",
       "      height: 32px;\n",
       "      padding: 0 0 0 0;\n",
       "      width: 32px;\n",
       "    }\n",
       "\n",
       "    .colab-df-convert:hover {\n",
       "      background-color: #E2EBFA;\n",
       "      box-shadow: 0px 1px 2px rgba(60, 64, 67, 0.3), 0px 1px 3px 1px rgba(60, 64, 67, 0.15);\n",
       "      fill: #174EA6;\n",
       "    }\n",
       "\n",
       "    [theme=dark] .colab-df-convert {\n",
       "      background-color: #3B4455;\n",
       "      fill: #D2E3FC;\n",
       "    }\n",
       "\n",
       "    [theme=dark] .colab-df-convert:hover {\n",
       "      background-color: #434B5C;\n",
       "      box-shadow: 0px 1px 3px 1px rgba(0, 0, 0, 0.15);\n",
       "      filter: drop-shadow(0px 1px 2px rgba(0, 0, 0, 0.3));\n",
       "      fill: #FFFFFF;\n",
       "    }\n",
       "  </style>\n",
       "\n",
       "      <script>\n",
       "        const buttonEl =\n",
       "          document.querySelector('#df-c7548a6d-0768-48c9-8fee-2de327bd3a25 button.colab-df-convert');\n",
       "        buttonEl.style.display =\n",
       "          google.colab.kernel.accessAllowed ? 'block' : 'none';\n",
       "\n",
       "        async function convertToInteractive(key) {\n",
       "          const element = document.querySelector('#df-c7548a6d-0768-48c9-8fee-2de327bd3a25');\n",
       "          const dataTable =\n",
       "            await google.colab.kernel.invokeFunction('convertToInteractive',\n",
       "                                                     [key], {});\n",
       "          if (!dataTable) return;\n",
       "\n",
       "          const docLinkHtml = 'Like what you see? Visit the ' +\n",
       "            '<a target=\"_blank\" href=https://colab.research.google.com/notebooks/data_table.ipynb>data table notebook</a>'\n",
       "            + ' to learn more about interactive tables.';\n",
       "          element.innerHTML = '';\n",
       "          dataTable['output_type'] = 'display_data';\n",
       "          await google.colab.output.renderOutput(dataTable, element);\n",
       "          const docLink = document.createElement('div');\n",
       "          docLink.innerHTML = docLinkHtml;\n",
       "          element.appendChild(docLink);\n",
       "        }\n",
       "      </script>\n",
       "    </div>\n",
       "  </div>\n",
       "  "
      ],
      "text/plain": [
       "                      geometry  \\\n",
       "0  POINT (-111.94048 33.43344)   \n",
       "\n",
       "                                             address  \n",
       "0  Tempe Town Lake, South Mill Avenue, 85287, Sou...  "
      ]
     },
     "execution_count": 16,
     "metadata": {},
     "output_type": "execute_result"
    }
   ],
   "source": [
    "coords"
   ]
  },
  {
   "cell_type": "markdown",
   "metadata": {
    "id": "aYbO4hekk8li"
   },
   "source": [
    "\n",
    "\n",
    "<br></br>\n",
    "What we get is a GeoDataFrame with only one row that contains my address and the coordinates, which seems to be quite accurate. (you can validate it on Google Maps)\n",
    "\n",
    "<br></br>\n",
    "`POINT (-111.944135926829 33.4176156097561)`\n",
    "\n"
   ]
  },
  {
   "cell_type": "markdown",
   "metadata": {
    "id": "jmJxvw88k8lk"
   },
   "source": [
    "<br></br>\n",
    "What if we have multiple addresses? We just need to give the `geocode` function a list of addresses. \n",
    "<br></br>\n",
    "For example, if we have two locations: My home and Wells Fargo Arena.\n",
    "\n"
   ]
  },
  {
   "cell_type": "code",
   "execution_count": 4,
   "metadata": {
    "colab": {
     "base_uri": "https://localhost:8080/"
    },
    "id": "1Ln3spkfk8lm",
    "outputId": "366d5ccd-a7c9-4423-d5ac-db942d9fc4f3"
   },
   "outputs": [],
   "source": [
    "my_address_list = [\"1037 South Farmer Ave, Tempe, Arizona\", \n",
    "                   \"Wells Fargo Arena, Tempe, Arizona\"]\n",
    "\n",
    "coords_list = geocode(my_address_list, provider=None,user_agent=None)"
   ]
  },
  {
   "cell_type": "code",
   "execution_count": 5,
   "metadata": {
    "colab": {
     "base_uri": "https://localhost:8080/",
     "height": 112
    },
    "id": "shDCef6Mk8lq",
    "outputId": "4ce89e11-ad66-4222-9abd-44c03eba0e06"
   },
   "outputs": [
    {
     "data": {
      "text/html": [
       "<div>\n",
       "<style scoped>\n",
       "    .dataframe tbody tr th:only-of-type {\n",
       "        vertical-align: middle;\n",
       "    }\n",
       "\n",
       "    .dataframe tbody tr th {\n",
       "        vertical-align: top;\n",
       "    }\n",
       "\n",
       "    .dataframe thead th {\n",
       "        text-align: right;\n",
       "    }\n",
       "</style>\n",
       "<table border=\"1\" class=\"dataframe\">\n",
       "  <thead>\n",
       "    <tr style=\"text-align: right;\">\n",
       "      <th></th>\n",
       "      <th>geometry</th>\n",
       "      <th>address</th>\n",
       "    </tr>\n",
       "  </thead>\n",
       "  <tbody>\n",
       "    <tr>\n",
       "      <th>0</th>\n",
       "      <td>POINT (-111.94048 33.43344)</td>\n",
       "      <td>Tempe Town Lake, South Mill Avenue, 85287, Sou...</td>\n",
       "    </tr>\n",
       "    <tr>\n",
       "      <th>1</th>\n",
       "      <td>POINT (-111.92798 33.37780)</td>\n",
       "      <td>Wells Fargo, Lakeside Drive, 85252, Lakeside D...</td>\n",
       "    </tr>\n",
       "  </tbody>\n",
       "</table>\n",
       "</div>"
      ],
      "text/plain": [
       "                      geometry  \\\n",
       "0  POINT (-111.94048 33.43344)   \n",
       "1  POINT (-111.92798 33.37780)   \n",
       "\n",
       "                                             address  \n",
       "0  Tempe Town Lake, South Mill Avenue, 85287, Sou...  \n",
       "1  Wells Fargo, Lakeside Drive, 85252, Lakeside D...  "
      ]
     },
     "execution_count": 5,
     "metadata": {},
     "output_type": "execute_result"
    }
   ],
   "source": [
    "coords_list"
   ]
  },
  {
   "cell_type": "markdown",
   "metadata": {
    "id": "8M7tpN62k8lu"
   },
   "source": [
    "That being said, if we have a Excel table of addresses and needed be geocoded, we can do this in a batch."
   ]
  },
  {
   "cell_type": "markdown",
   "metadata": {
    "id": "5_ne5177k8lv"
   },
   "source": [
    "Let's try to plot those two locations on a map using the coordinates we obtained from the geocoder (I will talk about how to make a map like below  in more details in the Module 6)."
   ]
  },
  {
   "cell_type": "code",
   "execution_count": 8,
   "metadata": {
    "colab": {
     "base_uri": "https://localhost:8080/",
     "height": 947
    },
    "id": "XMne5_DKk8lx",
    "outputId": "3adbed2b-eb3e-4f0c-987d-2883fc288d58"
   },
   "outputs": [
    {
     "data": {
      "text/html": [
       "<div style=\"width:100%;\"><div style=\"position:relative;width:100%;height:0;padding-bottom:60%;\"><span style=\"color:#565656\">Make this Notebook Trusted to load map: File -> Trust Notebook</span><iframe srcdoc=\"&lt;!DOCTYPE html&gt;\n",
       "&lt;html&gt;\n",
       "&lt;head&gt;\n",
       "    \n",
       "    &lt;meta http-equiv=&quot;content-type&quot; content=&quot;text/html; charset=UTF-8&quot; /&gt;\n",
       "    \n",
       "        &lt;script&gt;\n",
       "            L_NO_TOUCH = false;\n",
       "            L_DISABLE_3D = false;\n",
       "        &lt;/script&gt;\n",
       "    \n",
       "    &lt;style&gt;html, body {width: 100%;height: 100%;margin: 0;padding: 0;}&lt;/style&gt;\n",
       "    &lt;style&gt;#map {position:absolute;top:0;bottom:0;right:0;left:0;}&lt;/style&gt;\n",
       "    &lt;script src=&quot;https://cdn.jsdelivr.net/npm/leaflet@1.9.3/dist/leaflet.js&quot;&gt;&lt;/script&gt;\n",
       "    &lt;script src=&quot;https://code.jquery.com/jquery-1.12.4.min.js&quot;&gt;&lt;/script&gt;\n",
       "    &lt;script src=&quot;https://cdn.jsdelivr.net/npm/bootstrap@5.2.2/dist/js/bootstrap.bundle.min.js&quot;&gt;&lt;/script&gt;\n",
       "    &lt;script src=&quot;https://cdnjs.cloudflare.com/ajax/libs/Leaflet.awesome-markers/2.0.2/leaflet.awesome-markers.js&quot;&gt;&lt;/script&gt;\n",
       "    &lt;link rel=&quot;stylesheet&quot; href=&quot;https://cdn.jsdelivr.net/npm/leaflet@1.9.3/dist/leaflet.css&quot;/&gt;\n",
       "    &lt;link rel=&quot;stylesheet&quot; href=&quot;https://cdn.jsdelivr.net/npm/bootstrap@5.2.2/dist/css/bootstrap.min.css&quot;/&gt;\n",
       "    &lt;link rel=&quot;stylesheet&quot; href=&quot;https://netdna.bootstrapcdn.com/bootstrap/3.0.0/css/bootstrap.min.css&quot;/&gt;\n",
       "    &lt;link rel=&quot;stylesheet&quot; href=&quot;https://cdn.jsdelivr.net/npm/@fortawesome/fontawesome-free@6.2.0/css/all.min.css&quot;/&gt;\n",
       "    &lt;link rel=&quot;stylesheet&quot; href=&quot;https://cdnjs.cloudflare.com/ajax/libs/Leaflet.awesome-markers/2.0.2/leaflet.awesome-markers.css&quot;/&gt;\n",
       "    &lt;link rel=&quot;stylesheet&quot; href=&quot;https://cdn.jsdelivr.net/gh/python-visualization/folium/folium/templates/leaflet.awesome.rotate.min.css&quot;/&gt;\n",
       "    \n",
       "            &lt;meta name=&quot;viewport&quot; content=&quot;width=device-width,\n",
       "                initial-scale=1.0, maximum-scale=1.0, user-scalable=no&quot; /&gt;\n",
       "            &lt;style&gt;\n",
       "                #map_7e34623d13257f3101012f1459b7559f {\n",
       "                    position: relative;\n",
       "                    width: 100.0%;\n",
       "                    height: 100.0%;\n",
       "                    left: 0.0%;\n",
       "                    top: 0.0%;\n",
       "                }\n",
       "                .leaflet-container { font-size: 1rem; }\n",
       "            &lt;/style&gt;\n",
       "        \n",
       "&lt;/head&gt;\n",
       "&lt;body&gt;\n",
       "    \n",
       "    \n",
       "            &lt;div class=&quot;folium-map&quot; id=&quot;map_7e34623d13257f3101012f1459b7559f&quot; &gt;&lt;/div&gt;\n",
       "        \n",
       "&lt;/body&gt;\n",
       "&lt;script&gt;\n",
       "    \n",
       "    \n",
       "            var map_7e34623d13257f3101012f1459b7559f = L.map(\n",
       "                &quot;map_7e34623d13257f3101012f1459b7559f&quot;,\n",
       "                {\n",
       "                    center: [33.42, -111.935],\n",
       "                    crs: L.CRS.EPSG3857,\n",
       "                    zoom: 15,\n",
       "                    zoomControl: true,\n",
       "                    preferCanvas: false,\n",
       "                }\n",
       "            );\n",
       "\n",
       "            \n",
       "\n",
       "        \n",
       "    \n",
       "            var tile_layer_aef1f34a35467a01743a59ecbe439fc5 = L.tileLayer(\n",
       "                &quot;https://stamen-tiles-{s}.a.ssl.fastly.net/toner/{z}/{x}/{y}.png&quot;,\n",
       "                {&quot;attribution&quot;: &quot;Map tiles by \\u003ca target=\\&quot;_blank\\&quot; href=\\&quot;http://stamen.com\\&quot;\\u003eStamen Design\\u003c/a\\u003e, under \\u003ca target=\\&quot;_blank\\&quot; href=\\&quot;http://creativecommons.org/licenses/by/3.0\\&quot;\\u003eCC BY 3.0\\u003c/a\\u003e. Data by \\u0026copy; \\u003ca target=\\&quot;_blank\\&quot; href=\\&quot;http://openstreetmap.org\\&quot;\\u003eOpenStreetMap\\u003c/a\\u003e, under \\u003ca target=\\&quot;_blank\\&quot; href=\\&quot;http://www.openstreetmap.org/copyright\\&quot;\\u003eODbL\\u003c/a\\u003e.&quot;, &quot;detectRetina&quot;: false, &quot;maxNativeZoom&quot;: 18, &quot;maxZoom&quot;: 18, &quot;minZoom&quot;: 0, &quot;noWrap&quot;: false, &quot;opacity&quot;: 1, &quot;subdomains&quot;: &quot;abc&quot;, &quot;tms&quot;: false}\n",
       "            ).addTo(map_7e34623d13257f3101012f1459b7559f);\n",
       "        \n",
       "    \n",
       "            var marker_5132a8cf72cc591dc8d583e04dcd080a = L.marker(\n",
       "                [33.3777972, -111.927978],\n",
       "                {}\n",
       "            ).addTo(map_7e34623d13257f3101012f1459b7559f);\n",
       "        \n",
       "    \n",
       "        var popup_6d552e46ee14a4b9502fd11b72fd868c = L.popup({&quot;maxWidth&quot;: &quot;100%&quot;});\n",
       "\n",
       "        \n",
       "            \n",
       "                var html_cf0c11c37e98ef712e0fd47850cd48fc = $(`&lt;div id=&quot;html_cf0c11c37e98ef712e0fd47850cd48fc&quot; style=&quot;width: 100.0%; height: 100.0%;&quot;&gt;&lt;i&gt;Arena&lt;/i&gt;&lt;/div&gt;`)[0];\n",
       "                popup_6d552e46ee14a4b9502fd11b72fd868c.setContent(html_cf0c11c37e98ef712e0fd47850cd48fc);\n",
       "            \n",
       "        \n",
       "\n",
       "        marker_5132a8cf72cc591dc8d583e04dcd080a.bindPopup(popup_6d552e46ee14a4b9502fd11b72fd868c)\n",
       "        ;\n",
       "\n",
       "        \n",
       "    \n",
       "    \n",
       "            var marker_4efde7144fc681588f9fab287b74b355 = L.marker(\n",
       "                [33.43343595, -111.94047966381035],\n",
       "                {}\n",
       "            ).addTo(map_7e34623d13257f3101012f1459b7559f);\n",
       "        \n",
       "    \n",
       "        var popup_993eaf53a1d12e8100edc51683ad98f2 = L.popup({&quot;maxWidth&quot;: &quot;100%&quot;});\n",
       "\n",
       "        \n",
       "            \n",
       "                var html_85ec1d33b12d7b3057594a67c628d81a = $(`&lt;div id=&quot;html_85ec1d33b12d7b3057594a67c628d81a&quot; style=&quot;width: 100.0%; height: 100.0%;&quot;&gt;&lt;i&gt;Home&lt;/i&gt;&lt;/div&gt;`)[0];\n",
       "                popup_993eaf53a1d12e8100edc51683ad98f2.setContent(html_85ec1d33b12d7b3057594a67c628d81a);\n",
       "            \n",
       "        \n",
       "\n",
       "        marker_4efde7144fc681588f9fab287b74b355.bindPopup(popup_993eaf53a1d12e8100edc51683ad98f2)\n",
       "        ;\n",
       "\n",
       "        \n",
       "    \n",
       "&lt;/script&gt;\n",
       "&lt;/html&gt;\" style=\"position:absolute;width:100%;height:100%;left:0;top:0;border:none !important;\" allowfullscreen webkitallowfullscreen mozallowfullscreen></iframe></div></div>"
      ],
      "text/plain": [
       "<folium.folium.Map at 0x7fe458b15610>"
      ]
     },
     "execution_count": 8,
     "metadata": {},
     "output_type": "execute_result"
    }
   ],
   "source": [
    "import folium\n",
    "%matplotlib inline\n",
    "asu = folium.Map(\n",
    "    location=[33.4200, -111.9350],\n",
    "    tiles='Stamen Toner',\n",
    "    zoom_start=15\n",
    ")\n",
    "folium.Marker([coords_list.geometry[1].y, coords_list.geometry[1].x], popup='<i>Arena</i>').add_to(asu)\n",
    "folium.Marker([coords_list.geometry[0].y, coords_list.geometry[0].x], popup='<i>Home</i>').add_to(asu)\n",
    "asu"
   ]
  },
  {
   "cell_type": "code",
   "execution_count": null,
   "metadata": {
    "id": "PRR8qls6k8l0"
   },
   "outputs": [],
   "source": []
  },
  {
   "cell_type": "code",
   "execution_count": null,
   "metadata": {
    "id": "TFNDkboKk8l3"
   },
   "outputs": [],
   "source": []
  }
 ],
 "metadata": {
  "colab": {
   "name": "5.3 Geocoding.ipynb",
   "provenance": []
  },
  "kernelspec": {
   "display_name": "Python 3 (ipykernel)",
   "language": "python",
   "name": "python3"
  },
  "language_info": {
   "codemirror_mode": {
    "name": "ipython",
    "version": 3
   },
   "file_extension": ".py",
   "mimetype": "text/x-python",
   "name": "python",
   "nbconvert_exporter": "python",
   "pygments_lexer": "ipython3",
   "version": "3.9.13"
  }
 },
 "nbformat": 4,
 "nbformat_minor": 1
}
