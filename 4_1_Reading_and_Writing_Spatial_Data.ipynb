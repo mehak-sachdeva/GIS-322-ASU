{
  "nbformat": 4,
  "nbformat_minor": 0,
  "metadata": {
    "kernelspec": {
      "display_name": "Python [conda root]",
      "language": "python",
      "name": "conda-root-py"
    },
    "language_info": {
      "codemirror_mode": {
        "name": "ipython",
        "version": 3
      },
      "file_extension": ".py",
      "mimetype": "text/x-python",
      "name": "python",
      "nbconvert_exporter": "python",
      "pygments_lexer": "ipython3",
      "version": "3.5.4"
    },
    "colab": {
      "name": "4.1 Reading and Writing Spatial Data.ipynb",
      "provenance": [],
      "toc_visible": true
    }
  },
  "cells": [
    {
      "cell_type": "markdown",
      "metadata": {
        "id": "d-m_rg8yOBu6"
      },
      "source": [
        "\n",
        "<a href=\"https://colab.research.google.com/github/mehak-sachdeva/ASU-GIS-322-Fall-19/blob/master/notebooks/4_1_Reading_and_Writing_Spatial_Data.ipynb\" target=\"_parent\"><img src=\"https://colab.research.google.com/assets/colab-badge.svg\" alt=\"Open In Colab\"/></a>\n",
        "\n"
      ]
    },
    {
      "cell_type": "markdown",
      "metadata": {
        "id": "EiYGbBQCp9O-"
      },
      "source": [
        "# Reading and Writing Spatial Data\n",
        "\n",
        "<br></br>\n",
        "In this notebook, you will learn how to read and write spatial data (like ESRI's shapefiles) in python using `geopandas` library."
      ]
    },
    {
      "cell_type": "markdown",
      "metadata": {
        "id": "zSLrdoIbp9PC"
      },
      "source": [
        "## Reading Spatial Data \n",
        "\n",
        "\n",
        "\n",
        "\n",
        "<br></br>\n",
        "geopandas can read almost any vector-based spatial data format including ESRI shapefile, GeoJSON files and more using the command:\n",
        "\n",
        "\n",
        "<br></br>\n",
        "`geopandas.read_file()`\n",
        "\n"
      ]
    },
    {
      "cell_type": "code",
      "metadata": {
        "id": "zicjGvocp9PE"
      },
      "source": [
        "!pip install geopandas #This line is to install geopandas in Google Colab\n",
        "import geopandas as gpd\n",
        "import matplotlib.pyplot as plt"
      ],
      "execution_count": null,
      "outputs": []
    },
    {
      "cell_type": "code",
      "metadata": {
        "id": "gDIXSmKkp9PM"
      },
      "source": [
        "%matplotlib inline"
      ],
      "execution_count": null,
      "outputs": []
    },
    {
      "cell_type": "code",
      "metadata": {
        "id": "z7_Wt5egp9PV"
      },
      "source": [
        "states = gpd.read_file(\"US_lower_48.shp\")"
      ],
      "execution_count": null,
      "outputs": []
    },
    {
      "cell_type": "markdown",
      "metadata": {
        "id": "Hih1cFGAp9Pb"
      },
      "source": [
        "\n",
        "<br></br>\n",
        "The file read in is called a `GeoDataFrame`"
      ]
    },
    {
      "cell_type": "code",
      "metadata": {
        "id": "Bg_CLlz7p9Pe",
        "colab": {
          "base_uri": "https://localhost:8080/",
          "height": 34
        },
        "outputId": "99d3f652-1e0e-42d6-e894-2c6657c1e081"
      },
      "source": [
        "states.__class__"
      ],
      "execution_count": null,
      "outputs": [
        {
          "output_type": "execute_result",
          "data": {
            "text/plain": [
              "geopandas.geodataframe.GeoDataFrame"
            ]
          },
          "metadata": {
            "tags": []
          },
          "execution_count": 5
        }
      ]
    },
    {
      "cell_type": "markdown",
      "metadata": {
        "id": "jw6AmvMpp9Pl"
      },
      "source": [
        "\n",
        "<br></br>\n",
        "Note that last column `geometry` in the GeoDataFrame `states` contains shapes. Other columns contain the attributes of each ploygon, in our example of each state."
      ]
    },
    {
      "cell_type": "code",
      "metadata": {
        "id": "5I_7Jv6op9Pn",
        "colab": {
          "base_uri": "https://localhost:8080/",
          "height": 567
        },
        "outputId": "b4a77413-e76a-4deb-d91c-6d71f7b3eb7e"
      },
      "source": [
        "states.head()"
      ],
      "execution_count": null,
      "outputs": [
        {
          "output_type": "execute_result",
          "data": {
            "text/html": [
              "<div>\n",
              "<style scoped>\n",
              "    .dataframe tbody tr th:only-of-type {\n",
              "        vertical-align: middle;\n",
              "    }\n",
              "\n",
              "    .dataframe tbody tr th {\n",
              "        vertical-align: top;\n",
              "    }\n",
              "\n",
              "    .dataframe thead th {\n",
              "        text-align: right;\n",
              "    }\n",
              "</style>\n",
              "<table border=\"1\" class=\"dataframe\">\n",
              "  <thead>\n",
              "    <tr style=\"text-align: right;\">\n",
              "      <th></th>\n",
              "      <th>REGION</th>\n",
              "      <th>DIVISION</th>\n",
              "      <th>STATEFP</th>\n",
              "      <th>STATENS</th>\n",
              "      <th>GEOID</th>\n",
              "      <th>STUSPS</th>\n",
              "      <th>NAME</th>\n",
              "      <th>LSAD</th>\n",
              "      <th>MTFCC</th>\n",
              "      <th>FUNCSTAT</th>\n",
              "      <th>ALAND</th>\n",
              "      <th>AWATER</th>\n",
              "      <th>INTPTLAT</th>\n",
              "      <th>INTPTLON</th>\n",
              "      <th>geometry</th>\n",
              "    </tr>\n",
              "  </thead>\n",
              "  <tbody>\n",
              "    <tr>\n",
              "      <th>0</th>\n",
              "      <td>3</td>\n",
              "      <td>5</td>\n",
              "      <td>54</td>\n",
              "      <td>01779805</td>\n",
              "      <td>54</td>\n",
              "      <td>WV</td>\n",
              "      <td>West Virginia</td>\n",
              "      <td>00</td>\n",
              "      <td>G4000</td>\n",
              "      <td>A</td>\n",
              "      <td>62266474513</td>\n",
              "      <td>489028543</td>\n",
              "      <td>+38.6472854</td>\n",
              "      <td>-080.6183274</td>\n",
              "      <td>POLYGON ((-81.74725 39.09538, -81.74635 39.096...</td>\n",
              "    </tr>\n",
              "    <tr>\n",
              "      <th>1</th>\n",
              "      <td>3</td>\n",
              "      <td>5</td>\n",
              "      <td>12</td>\n",
              "      <td>00294478</td>\n",
              "      <td>12</td>\n",
              "      <td>FL</td>\n",
              "      <td>Florida</td>\n",
              "      <td>00</td>\n",
              "      <td>G4000</td>\n",
              "      <td>A</td>\n",
              "      <td>138949136250</td>\n",
              "      <td>31361101223</td>\n",
              "      <td>+28.4574302</td>\n",
              "      <td>-082.4091477</td>\n",
              "      <td>MULTIPOLYGON (((-86.38865 30.99418, -86.38385 ...</td>\n",
              "    </tr>\n",
              "    <tr>\n",
              "      <th>2</th>\n",
              "      <td>2</td>\n",
              "      <td>3</td>\n",
              "      <td>17</td>\n",
              "      <td>01779784</td>\n",
              "      <td>17</td>\n",
              "      <td>IL</td>\n",
              "      <td>Illinois</td>\n",
              "      <td>00</td>\n",
              "      <td>G4000</td>\n",
              "      <td>A</td>\n",
              "      <td>143780567633</td>\n",
              "      <td>6214824948</td>\n",
              "      <td>+40.1028754</td>\n",
              "      <td>-089.1526108</td>\n",
              "      <td>POLYGON ((-91.18529 40.63780, -91.17510 40.643...</td>\n",
              "    </tr>\n",
              "    <tr>\n",
              "      <th>3</th>\n",
              "      <td>2</td>\n",
              "      <td>4</td>\n",
              "      <td>27</td>\n",
              "      <td>00662849</td>\n",
              "      <td>27</td>\n",
              "      <td>MN</td>\n",
              "      <td>Minnesota</td>\n",
              "      <td>00</td>\n",
              "      <td>G4000</td>\n",
              "      <td>A</td>\n",
              "      <td>206228939448</td>\n",
              "      <td>18945217189</td>\n",
              "      <td>+46.3159573</td>\n",
              "      <td>-094.1996043</td>\n",
              "      <td>POLYGON ((-96.78438 46.63050, -96.78434 46.630...</td>\n",
              "    </tr>\n",
              "    <tr>\n",
              "      <th>4</th>\n",
              "      <td>3</td>\n",
              "      <td>5</td>\n",
              "      <td>24</td>\n",
              "      <td>01714934</td>\n",
              "      <td>24</td>\n",
              "      <td>MD</td>\n",
              "      <td>Maryland</td>\n",
              "      <td>00</td>\n",
              "      <td>G4000</td>\n",
              "      <td>A</td>\n",
              "      <td>25151100280</td>\n",
              "      <td>6979966958</td>\n",
              "      <td>+38.9466584</td>\n",
              "      <td>-076.6744939</td>\n",
              "      <td>POLYGON ((-77.45881 39.22027, -77.45866 39.220...</td>\n",
              "    </tr>\n",
              "  </tbody>\n",
              "</table>\n",
              "</div>"
            ],
            "text/plain": [
              "  REGION  ...                                           geometry\n",
              "0      3  ...  POLYGON ((-81.74725 39.09538, -81.74635 39.096...\n",
              "1      3  ...  MULTIPOLYGON (((-86.38865 30.99418, -86.38385 ...\n",
              "2      2  ...  POLYGON ((-91.18529 40.63780, -91.17510 40.643...\n",
              "3      2  ...  POLYGON ((-96.78438 46.63050, -96.78434 46.630...\n",
              "4      3  ...  POLYGON ((-77.45881 39.22027, -77.45866 39.220...\n",
              "\n",
              "[5 rows x 15 columns]"
            ]
          },
          "metadata": {
            "tags": []
          },
          "execution_count": 6
        }
      ]
    },
    {
      "cell_type": "markdown",
      "metadata": {
        "id": "FIAoIXZGp9Pt"
      },
      "source": [
        "## Plotting Spatial Data \n",
        "\n",
        "\n",
        "<br></br>\n",
        "\n",
        "After your spatial data are readed in, you can use this command to do a simple plot:\n",
        "\n",
        "<br></br>\n",
        "`GeoDataFrame.plot()`\n",
        "\n",
        "<br></br>\n",
        "where in the below example, there are several added argument in the `GeoDataFrame.plot()`\n",
        "\n",
        "\n",
        "* ```figsize=(10,5)``` is to set the size of the figure\n",
        "* ```color='white'``` is to set the fill color of the polygon\n",
        "* ```edgecolor='black'``` is to set the edge color of the polygon"
      ]
    },
    {
      "cell_type": "code",
      "metadata": {
        "id": "JSi_hV1_p9Pw",
        "colab": {
          "base_uri": "https://localhost:8080/",
          "height": 309
        },
        "outputId": "793e2568-a3e6-439a-afb4-079d4b96c168"
      },
      "source": [
        "states.plot(figsize=(10,5),color='white', edgecolor='black')"
      ],
      "execution_count": null,
      "outputs": [
        {
          "output_type": "execute_result",
          "data": {
            "text/plain": [
              "<matplotlib.axes._subplots.AxesSubplot at 0x7f438dfb2390>"
            ]
          },
          "metadata": {
            "tags": []
          },
          "execution_count": 7
        },
        {
          "output_type": "display_data",
          "data": {
            "image/png": "[encoded data removed]",
            "text/plain": [
              "<Figure size 720x360 with 1 Axes>"
            ]
          },
          "metadata": {
            "tags": []
          }
        }
      ]
    },
    {
      "cell_type": "markdown",
      "metadata": {
        "id": "oS0hDZeep9P2"
      },
      "source": [
        "\n",
        "<br></br>\n",
        "A `geopandas`'s `GeoDataFrame` is a subclass of `pandas`'s `DataFrame`, which means that all the methods in `pandas.DataFrame` apply to `geopandas.GeoDataFrame`.\n",
        "\n",
        "<br></br>\n",
        "For example, let's subset our `states` and get Arizona!\n",
        " \n",
        " "
      ]
    },
    {
      "cell_type": "code",
      "metadata": {
        "id": "ILL-Bpozp9P3",
        "colab": {
          "base_uri": "https://localhost:8080/",
          "height": 168
        },
        "outputId": "d8408c1f-4122-4d7e-f300-bbba4806bfec"
      },
      "source": [
        "AZ = states[states.NAME == \"Arizona\"]\n",
        "AZ"
      ],
      "execution_count": null,
      "outputs": [
        {
          "output_type": "execute_result",
          "data": {
            "text/html": [
              "<div>\n",
              "<style scoped>\n",
              "    .dataframe tbody tr th:only-of-type {\n",
              "        vertical-align: middle;\n",
              "    }\n",
              "\n",
              "    .dataframe tbody tr th {\n",
              "        vertical-align: top;\n",
              "    }\n",
              "\n",
              "    .dataframe thead th {\n",
              "        text-align: right;\n",
              "    }\n",
              "</style>\n",
              "<table border=\"1\" class=\"dataframe\">\n",
              "  <thead>\n",
              "    <tr style=\"text-align: right;\">\n",
              "      <th></th>\n",
              "      <th>REGION</th>\n",
              "      <th>DIVISION</th>\n",
              "      <th>STATEFP</th>\n",
              "      <th>STATENS</th>\n",
              "      <th>GEOID</th>\n",
              "      <th>STUSPS</th>\n",
              "      <th>NAME</th>\n",
              "      <th>LSAD</th>\n",
              "      <th>MTFCC</th>\n",
              "      <th>FUNCSTAT</th>\n",
              "      <th>ALAND</th>\n",
              "      <th>AWATER</th>\n",
              "      <th>INTPTLAT</th>\n",
              "      <th>INTPTLON</th>\n",
              "      <th>geometry</th>\n",
              "    </tr>\n",
              "  </thead>\n",
              "  <tbody>\n",
              "    <tr>\n",
              "      <th>47</th>\n",
              "      <td>4</td>\n",
              "      <td>8</td>\n",
              "      <td>04</td>\n",
              "      <td>01779777</td>\n",
              "      <td>04</td>\n",
              "      <td>AZ</td>\n",
              "      <td>Arizona</td>\n",
              "      <td>00</td>\n",
              "      <td>G4000</td>\n",
              "      <td>A</td>\n",
              "      <td>294198551143</td>\n",
              "      <td>1027337603</td>\n",
              "      <td>+34.2039355</td>\n",
              "      <td>-111.6063565</td>\n",
              "      <td>POLYGON ((-114.51645 33.02762, -114.51664 33.0...</td>\n",
              "    </tr>\n",
              "  </tbody>\n",
              "</table>\n",
              "</div>"
            ],
            "text/plain": [
              "   REGION  ...                                           geometry\n",
              "47      4  ...  POLYGON ((-114.51645 33.02762, -114.51664 33.0...\n",
              "\n",
              "[1 rows x 15 columns]"
            ]
          },
          "metadata": {
            "tags": []
          },
          "execution_count": 8
        }
      ]
    },
    {
      "cell_type": "code",
      "metadata": {
        "id": "b1YkhZCSp9P6",
        "colab": {
          "base_uri": "https://localhost:8080/",
          "height": 286
        },
        "outputId": "dc10eb40-7dc0-40a7-f377-41fd5fb61049"
      },
      "source": [
        "AZ.plot()"
      ],
      "execution_count": null,
      "outputs": [
        {
          "output_type": "execute_result",
          "data": {
            "text/plain": [
              "<matplotlib.axes._subplots.AxesSubplot at 0x7f438df37c18>"
            ]
          },
          "metadata": {
            "tags": []
          },
          "execution_count": 9
        },
        {
          "output_type": "display_data",
          "data": {
            "image/png": "[encoded data removed]",
            "text/plain": [
              "<Figure size 432x288 with 1 Axes>"
            ]
          },
          "metadata": {
            "tags": []
          }
        }
      ]
    },
    {
      "cell_type": "markdown",
      "metadata": {
        "id": "OKLEYI9ep9P-"
      },
      "source": [
        "\n",
        "<br></br>\n",
        "You can change the fill color of the polygon by using `.plot(,color=\"orange\")`."
      ]
    },
    {
      "cell_type": "code",
      "metadata": {
        "id": "-nkSxzQap9P_",
        "colab": {
          "base_uri": "https://localhost:8080/",
          "height": 311
        },
        "outputId": "e717f76d-d847-43df-fc73-a5d9a047072d"
      },
      "source": [
        "fig, ax = plt.subplots(1, 1)\n",
        "AZ.plot(ax=ax, color=\"orange\")\n",
        "fig.suptitle(\"Arizona\")"
      ],
      "execution_count": null,
      "outputs": [
        {
          "output_type": "execute_result",
          "data": {
            "text/plain": [
              "Text(0.5, 0.98, 'Arizona')"
            ]
          },
          "metadata": {
            "tags": []
          },
          "execution_count": 10
        },
        {
          "output_type": "display_data",
          "data": {
            "image/png": "[encoded data removed]",
            "text/plain": [
              "<Figure size 432x288 with 1 Axes>"
            ]
          },
          "metadata": {
            "tags": []
          }
        }
      ]
    },
    {
      "cell_type": "markdown",
      "metadata": {
        "id": "iOQvYzZhp9QD"
      },
      "source": [
        "\n",
        "<br></br>\n",
        "Now, let's add our capital ono the map. We will be creating a `shapely.geometry.Point` class, and use Phoenix's longitude and latitude to initalize the `Point` class, like this"
      ]
    },
    {
      "cell_type": "code",
      "metadata": {
        "id": "K908rXKvp9QE"
      },
      "source": [
        "from shapely.geometry import Point\n",
        "PHX_coor = Point(-112.0740, 33.4484)\n",
        "phx = gpd.GeoSeries(PHX_coor)"
      ],
      "execution_count": null,
      "outputs": []
    },
    {
      "cell_type": "code",
      "metadata": {
        "id": "orlQda5Zp9QG",
        "colab": {
          "base_uri": "https://localhost:8080/",
          "height": 311
        },
        "outputId": "19f0a009-448f-4757-ae59-7a0922cb025f"
      },
      "source": [
        "fig, ax = plt.subplots(1, 1)\n",
        "AZ.plot(ax=ax, color=\"orange\")\n",
        "phx.plot(ax=ax,marker=\"*\",markersize=500,color=\"red\")\n",
        "fig.suptitle(\"Arizona\")"
      ],
      "execution_count": null,
      "outputs": [
        {
          "output_type": "execute_result",
          "data": {
            "text/plain": [
              "Text(0.5, 0.98, 'Arizona')"
            ]
          },
          "metadata": {
            "tags": []
          },
          "execution_count": 12
        },
        {
          "output_type": "display_data",
          "data": {
            "image/png": "[encoded data removed]",
            "text/plain": [
              "<Figure size 432x288 with 1 Axes>"
            ]
          },
          "metadata": {
            "tags": []
          }
        }
      ]
    },
    {
      "cell_type": "markdown",
      "metadata": {
        "id": "Jb3zt-ecp9QL"
      },
      "source": [
        "## Writing Spatial Data \n",
        "\n",
        "<br></br>\n",
        "Writing the GeoDataFrame to file is straightfoward by following this command:\n",
        "\n",
        "`GeoDataFrame.to_file`"
      ]
    },
    {
      "cell_type": "code",
      "metadata": {
        "id": "MqonWoF8p9QL"
      },
      "source": [
        "AZ.to_file(\"az.shp\")"
      ],
      "execution_count": null,
      "outputs": []
    },
    {
      "cell_type": "markdown",
      "metadata": {
        "id": "N42SJsVgp9QN"
      },
      "source": [
        "Let's check if our writing is right by re-read the file, and plot it."
      ]
    },
    {
      "cell_type": "code",
      "metadata": {
        "id": "INvHTIdPp9QN",
        "colab": {
          "base_uri": "https://localhost:8080/",
          "height": 612
        },
        "outputId": "4bed4b61-74ea-4a40-ce96-a650e2b6aad4"
      },
      "source": [
        "az_check = gpd.read_file(\"az.shp\")\n",
        "az_check.plot(figsize=(10,10))"
      ],
      "execution_count": null,
      "outputs": [
        {
          "output_type": "execute_result",
          "data": {
            "text/plain": [
              "<matplotlib.axes._subplots.AxesSubplot at 0x7f438e27d048>"
            ]
          },
          "metadata": {
            "tags": []
          },
          "execution_count": 15
        },
        {
          "output_type": "display_data",
          "data": {
            "image/png": "[encoded data removed]",
            "text/plain": [
              "<Figure size 720x720 with 1 Axes>"
            ]
          },
          "metadata": {
            "tags": []
          }
        }
      ]
    },
    {
      "cell_type": "code",
      "metadata": {
        "id": "m9mRUg3vp9QS"
      },
      "source": [
        ""
      ],
      "execution_count": null,
      "outputs": []
    }
  ]
}